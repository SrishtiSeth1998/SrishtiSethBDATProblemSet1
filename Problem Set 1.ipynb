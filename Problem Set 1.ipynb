{
 "cells": [
  {
   "cell_type": "markdown",
   "id": "47186f1b",
   "metadata": {},
   "source": [
    "# Question 1\n"
   ]
  },
  {
   "cell_type": "markdown",
   "id": "daac758e",
   "metadata": {},
   "source": [
    "What data type is each of the following (evaluate where necessary)?\n",
    "\n",
    "1. 5 \n",
    "2. 5.0\n",
    "3. 5 > 1\n",
    "4. '5'\n",
    "5. 5 * 2\n",
    "6. '5' * 2\n",
    "7. '5' + '2'\n",
    "8. 5 / 2\n",
    "9. 5 % 2\n",
    "10. {5, 2, 1}\n",
    "11. 5 == 3\n",
    "12. Pi (the number)"
   ]
  },
  {
   "cell_type": "code",
   "execution_count": 7,
   "id": "881d5632",
   "metadata": {},
   "outputs": [
    {
     "name": "stdout",
     "output_type": "stream",
     "text": [
      "<class 'int'>\n",
      "<class 'float'>\n",
      "<class 'bool'>\n",
      "<class 'int'>\n",
      "<class 'str'>\n",
      "<class 'str'>\n",
      "<class 'str'>\n",
      "<class 'str'>\n",
      "<class 'set'>\n",
      "<class 'bool'>\n",
      "<class 'float'>\n"
     ]
    }
   ],
   "source": [
    "print(type(5))\n",
    "print(type(5.0))\n",
    "print(type(5>1))\n",
    "print(type(5*2))\n",
    "a = '5'*2\n",
    "print(type(a))\n",
    "print(type('5'+'2'))\n",
    "print(type('5/2'))\n",
    "print(type('5%2'))\n",
    "print(type({5,2,1}))\n",
    "print(type(5==2))\n",
    "Pi = 3.14\n",
    "print(type(Pi))\n"
   ]
  },
  {
   "cell_type": "markdown",
   "id": "f1496009",
   "metadata": {},
   "source": [
    "# Question 2"
   ]
  },
  {
   "cell_type": "markdown",
   "id": "d7e05b76",
   "metadata": {},
   "source": [
    "Write (and evaluate) python expressions that answer these questions:\n",
    "1. How many letters are there in 'Supercalifragilisticexpialidocious'?\n",
    "2. Does 'Supercalifragilisticexpialidocious' contain 'ice' as a substring?"
   ]
  },
  {
   "cell_type": "code",
   "execution_count": 8,
   "id": "148393df",
   "metadata": {},
   "outputs": [
    {
     "name": "stdout",
     "output_type": "stream",
     "text": [
      "34\n",
      "True\n"
     ]
    }
   ],
   "source": [
    "a = 'Supercalifragilisticexpialidocious'\n",
    "print(len(a)) \n",
    "print('ice' in a)"
   ]
  },
  {
   "cell_type": "markdown",
   "id": "24f66e75",
   "metadata": {},
   "source": [
    "3. Which of the following words is the longest: Supercalifragilisticexpialidocious, Honorificabilitudinitatibus, or Bababadalgharaghtakamminarronnkonn? "
   ]
  },
  {
   "cell_type": "code",
   "execution_count": 73,
   "id": "f0a36f05",
   "metadata": {},
   "outputs": [
    {
     "name": "stdout",
     "output_type": "stream",
     "text": [
      "Longest word= Bababadalgharaghtakamminarronnkonn 34\n",
      "Longest word= Supercalifragilisticexpialidocious 34\n"
     ]
    }
   ],
   "source": [
    "lst = ['Bababadalgharaghtakamminarronnkonn','Honorificabilitudinitatibus','Supercalifragilisticexpialidocious']\n",
    "\n",
    "longest = len(lst[0]) #setting the first number in the list as the longest length \n",
    "temp = lst[0]   # creating a temp variable and giving it the index 0 value\n",
    "\n",
    "for i in lst:\n",
    "    if len(i) >= longest:  # now comparing the list values with the longest variable\n",
    "        longest = len(i)   # swapping if the len(i) is greater \n",
    "        temp = i           # saving the i value in temp\n",
    "    else:\n",
    "        continue\n",
    "          \n",
    "    print(\"Longest word=\",temp , longest)\n",
    "        \n"
   ]
  },
  {
   "cell_type": "markdown",
   "id": "8fcb7226",
   "metadata": {},
   "source": [
    "4. Which composer comes first in the dictionary: 'Berlioz', 'Borodin', 'Brian', 'Bartok', 'Bellini', 'Buxtehude', 'Bernstein'. Which one comes last?\n"
   ]
  },
  {
   "cell_type": "code",
   "execution_count": 75,
   "id": "e7b75324",
   "metadata": {},
   "outputs": [
    {
     "name": "stdout",
     "output_type": "stream",
     "text": [
      "['Bartok', 'Bellini', 'Berlioz', 'Bernstein', 'Borodin', 'Brian', 'Buxtehude']\n"
     ]
    }
   ],
   "source": [
    "composer = ['Berlioz', 'Borodin', 'Brian', 'Bartok', 'Bellini', 'Buxtehude', 'Bernstein']\n",
    "composer.sort() # simply just using the sort function\n",
    "print(composer)"
   ]
  },
  {
   "cell_type": "markdown",
   "id": "11d86ae5",
   "metadata": {},
   "source": [
    "# Question 3"
   ]
  },
  {
   "cell_type": "markdown",
   "id": "6d0b2904",
   "metadata": {},
   "source": [
    "Implement function triangleArea(a,b,c) that takes as input the lengths of the 3 sides of a triangle and returns the area of the triangle. By Heron's formula, the area of a triangle with side lengths a, b, and c is s(s - a)(s -b)(s -c), where s = (a+b+c)/2. "
   ]
  },
  {
   "cell_type": "code",
   "execution_count": 83,
   "id": "c309541f",
   "metadata": {},
   "outputs": [
    {
     "name": "stdout",
     "output_type": "stream",
     "text": [
      "3.0\n"
     ]
    },
    {
     "data": {
      "text/plain": [
       "1.7320508075688772"
      ]
     },
     "execution_count": 83,
     "metadata": {},
     "output_type": "execute_result"
    }
   ],
   "source": [
    "def triangleArea(a,b,c):\n",
    "    import math as m  # math function for the square root function\n",
    "\n",
    "    s = (a+b+c)/2\n",
    "    print(s)\n",
    "    \n",
    "    area = m.sqrt(s*(s-a)*(s-b)*(s-c)) \n",
    "    return area\n",
    "    \n",
    "triangleArea(2,2,2)"
   ]
  },
  {
   "cell_type": "markdown",
   "id": "5a71345a",
   "metadata": {},
   "source": [
    "# Question 4"
   ]
  },
  {
   "cell_type": "markdown",
   "id": "57d4bb96",
   "metadata": {},
   "source": [
    "Write a program in python to separate odd and even integers in separate arrays."
   ]
  },
  {
   "cell_type": "code",
   "execution_count": 6,
   "id": "6f5eb81c",
   "metadata": {},
   "outputs": [
    {
     "name": "stdout",
     "output_type": "stream",
     "text": [
      "Enter the length of the array =5\n",
      "Enter Element 0: 25\n",
      "Enter Element 1: 42\n",
      "Enter Element 2: 47\n",
      "Enter Element 3: 53\n",
      "Enter Element 4: 89\n",
      "array('i', [25, 42, 47, 53, 89])\n",
      "The even arrays are: array('i', [42])\n",
      "The odd arrays are: array('i', [25, 47, 53, 89])\n"
     ]
    }
   ],
   "source": [
    "from array import *\n",
    "\n",
    "arr = array('i', [])         # defining an empty array\n",
    "EvenArr = array('i', []) \n",
    "OddArr = array('i', [])\n",
    "\n",
    "lg = int(input('Enter the length of the array =')) # length of the input array \n",
    "\n",
    "for i in range(lg):\n",
    "    ele = int(input('Enter Element {}: ' .format(i)))\n",
    "    arr.append(ele)                                    # adding elements one by one\n",
    "    \n",
    "print(arr)\n",
    "\n",
    "for e in arr:                \n",
    "    if e%2 == 0:                   \n",
    "        EvenArr.append(e)\n",
    "    else:\n",
    "        OddArr.append(e)\n",
    "        \n",
    "print('The even arrays are:', EvenArr)\n",
    "print('The odd arrays are:', OddArr)          \n",
    "\n",
    "#same steps are applied for working in a list "
   ]
  },
  {
   "cell_type": "markdown",
   "id": "78120a3e",
   "metadata": {},
   "source": [
    "# Question 5"
   ]
  },
  {
   "cell_type": "markdown",
   "id": "43ffd40d",
   "metadata": {},
   "source": [
    "a.  Write a function inside(x,y,x1,y1,x2,y2) that returns True or False \n",
    "depending on whether the point (x,y) lies in the rectangle with lower left \n",
    "corner (x1,y1) and upper right corner (x2,y2).\n"
   ]
  },
  {
   "cell_type": "code",
   "execution_count": 12,
   "id": "c1081d89",
   "metadata": {},
   "outputs": [
    {
     "name": "stdout",
     "output_type": "stream",
     "text": [
      "True\n",
      "False\n"
     ]
    }
   ],
   "source": [
    "def inside(x, y, x1, y1, x2, y2):     \n",
    "    if x1 <= x <= x2 and y1 <= y <= y2:   # the point lies between the corner points \n",
    "        return True\n",
    "    else:\n",
    "        return False\n",
    "    \n",
    "res1 = inside(1, 1, 0, 0, 2, 3)     #calling the function\n",
    "print(res1)\n",
    "res2 = inside(-1, -1, 0, 0, 2, 3)\n",
    "print(res2)"
   ]
  },
  {
   "cell_type": "markdown",
   "id": "60308513",
   "metadata": {},
   "source": [
    "b.   Use function inside() from part a. to write an expression that tests whether \n",
    "the point (1,1) lies in both of the following rectangles: one with lower left \n",
    "corner (0.3, 0.5) and upper right corner (1.1, 0.7) and the other with lower \n",
    "left corner (0.5, 0.2) and upper right corner (1.1, 2)"
   ]
  },
  {
   "cell_type": "code",
   "execution_count": 15,
   "id": "97dc1e79",
   "metadata": {
    "scrolled": true
   },
   "outputs": [
    {
     "name": "stdout",
     "output_type": "stream",
     "text": [
      "False\n",
      "True\n",
      "point(1,1) is NOT inside the triangle\n"
     ]
    }
   ],
   "source": [
    "rec1 = inside(1, 1, 0.3, 0.5, 1.1, 0.7)  \n",
    "rec2 = inside(1, 1, 0.5, 0.2, 1.1, 2)\n",
    "\n",
    "print(rec1)   \n",
    "print(rec2)   \n",
    "\n",
    "if rec1 and rec2 == True:      \n",
    "    print(\"point(1,1) inside the triangle\")\n",
    "else:\n",
    "    print(\"point(1,1) is NOT inside the triangle\")"
   ]
  },
  {
   "cell_type": "markdown",
   "id": "681fd700",
   "metadata": {},
   "source": [
    "#  Question 6"
   ]
  },
  {
   "cell_type": "markdown",
   "id": "9c98d2be",
   "metadata": {},
   "source": [
    "You can turn a word into pig-Latin using the following two rules (simplified):\n",
    "1. If the word starts with a consonant, move that letter to the end and append 'ay'. For example, 'happy' becomes 'appyhay' and 'pencil' becomes 'encilpay'.\n",
    "2. If the word starts with a vowel, simply append 'way' to the end of the word. For example, 'enter' becomes 'enterway' and 'other' becomes 'otherway' . For our purposes, there are 5 vowels: a, e, i, o, u (so we count y as a consonant).\n",
    "\n",
    "Write a function pig() that takes a word (i.e., a string) as input and returns its pig\u0002Latin form. Your function should still work if the input word contains upper case \n",
    "characters. Your output should always be lower case however"
   ]
  },
  {
   "cell_type": "code",
   "execution_count": 19,
   "id": "765c8f2b",
   "metadata": {},
   "outputs": [
    {
     "name": "stdout",
     "output_type": "stream",
     "text": [
      "appyhay\n",
      "Enterway\n"
     ]
    }
   ],
   "source": [
    "def pig(word):     # defining the function\n",
    "    \n",
    "    vowels = ['a','e','i','o','u','A', 'E', 'I', 'O', 'U']   # storing the vowels in a list\n",
    "    if word[0] in vowels:       # using indexing \n",
    "        pigLatin = word + 'way'\n",
    "        return pigLatin\n",
    "    else:                                 # others are the constants\n",
    "        pigLatin = word[1:]+word[0]+'ay'   # using indexing\n",
    "        return pigLatin\n",
    "\n",
    "print(pig('happy'))\n",
    "print(pig('Enter'))    "
   ]
  },
  {
   "cell_type": "markdown",
   "id": "1d2b5f1d",
   "metadata": {},
   "source": [
    "# Question 7"
   ]
  },
  {
   "cell_type": "markdown",
   "id": "f936f96a",
   "metadata": {},
   "source": [
    "File bloodtype1.txt records blood-types of patients (A, B, AB, O or OO) at a clinic. Write a function bldcount() that reads the file with name name and reports (i.e., prints) how many patients there are in each bloodtype."
   ]
  },
  {
   "cell_type": "code",
   "execution_count": 2,
   "id": "44387ba1",
   "metadata": {},
   "outputs": [
    {
     "name": "stdout",
     "output_type": "stream",
     "text": [
      "AB AB B O A A AB O AB A O O A A A O O O AB O A A A A A AB AB A AB O AB O A O O O AB O AB AB AB A A O \n"
     ]
    }
   ],
   "source": [
    "f = open('bloodtype.txt', 'r')\n",
    "print(f.read())"
   ]
  },
  {
   "cell_type": "code",
   "execution_count": 19,
   "id": "e996230d",
   "metadata": {
    "scrolled": true
   },
   "outputs": [
    {
     "name": "stdout",
     "output_type": "stream",
     "text": [
      "There are 13 patient for blood type AB.\n",
      "There are 15 patient for blood type A.\n",
      "There are 1 patient for blood type B.\n",
      "There are 15 patient for blood type O.\n",
      "There are no patient for blood type OO.\n"
     ]
    }
   ],
   "source": [
    "def bldcount(filename):\n",
    "    # 'will count patients in each bloodtype'\n",
    "    \n",
    "    bld = ['AB', 'A', 'B', 'O', 'OO']  # storing diffrent types of bloodtypes\n",
    "    infile = open(filename) \n",
    "    content = infile.read()\n",
    "    bloodtype = content.split()   # this function will make the list of the data in file\n",
    "    \n",
    "    for i in bld:    \n",
    "        count = bloodtype.count(i)   # counting loop for 'bld list' of patients\n",
    "        if count == 0:               # condition to get the no of patient according the the bloodtype\n",
    "            print(f'There are no patient for blood type {i}.')\n",
    "        else:\n",
    "            print(f'There are {count} patient for blood type {i}.')\n",
    "    \n",
    "bldcount('bloodtype.txt')"
   ]
  },
  {
   "cell_type": "markdown",
   "id": "b2e1f3c1",
   "metadata": {},
   "source": [
    "# Question 8"
   ]
  },
  {
   "cell_type": "markdown",
   "id": "f147dcbb",
   "metadata": {},
   "source": [
    "Write a function curconv() that takes as input:\n",
    "1.  a currency represented using a string (e.g., 'JPY' for the Japanese Yen or 'EUR' for the Euro)\n",
    "2. and amount\n",
    "and then converts and returns the amount is US Dollars.\n"
   ]
  },
  {
   "cell_type": "code",
   "execution_count": 132,
   "id": "c7b22046",
   "metadata": {},
   "outputs": [],
   "source": [
    "def curconv(currency, amount):\n",
    "    'will convert the currency into US'\n",
    "    \n",
    "    import re                             # regualr expression to extract patterns from the file \n",
    "    \n",
    "    infile = open('currencies.txt')\n",
    "    content = infile.read()\n",
    "    data = content.strip('\\t').split()    # this removes the spaces b/w the data and converting it to a list\n",
    "    #print(content)\n",
    "    \n",
    "                # finding a pattern of captial letters as the currency is in all caps\n",
    "    code = []             \n",
    "    for line in data:\n",
    "        if re.search(r\"^[A-Z]+$\", line):  # selecting the pattern for generating all caps\n",
    "            code.append(line)             # storing a retrived currency to a list \n",
    "        \n",
    "    #print(code)\n",
    "    \n",
    "    \n",
    "    exchange_rate = []\n",
    "    for rate in data:                     # picking out the numbers\n",
    "        if re.search(\"\\d\", rate):         # '/d' for numbers\n",
    "            exchange_rate.append(rate)    # creating a list \n",
    "    \n",
    "    #print(exchange_rate)\n",
    "    \n",
    "    \n",
    "    \n",
    "    # now we can create a dictionary of the 2 lists\n",
    "    file_dict = dict(zip(code,exchange_rate))\n",
    "    #print(file_dict)\n",
    "    \n",
    "                   \n",
    "    for i in file_dict:\n",
    "        if currency == i:                     # condition will look for the curriency that was called in the function\n",
    "            rates = float(file_dict.get(i))   # converting from string to float as the exchange rate was in a string format\n",
    "            result = rates*amount             # storing the final result\n",
    "            return result\n",
    "    "
   ]
  },
  {
   "cell_type": "code",
   "execution_count": 133,
   "id": "655e24ce",
   "metadata": {},
   "outputs": [
    {
     "data": {
      "text/plain": [
       "103.45157"
      ]
     },
     "execution_count": 133,
     "metadata": {},
     "output_type": "execute_result"
    }
   ],
   "source": [
    "curconv('AUD', 100)"
   ]
  },
  {
   "cell_type": "code",
   "execution_count": 134,
   "id": "1995f847",
   "metadata": {},
   "outputs": [
    {
     "data": {
      "text/plain": [
       "1.241401"
      ]
     },
     "execution_count": 134,
     "metadata": {},
     "output_type": "execute_result"
    }
   ],
   "source": [
    "curconv('JPY', 100)"
   ]
  },
  {
   "cell_type": "markdown",
   "id": "2d9575cb",
   "metadata": {},
   "source": [
    "# Question 9"
   ]
  },
  {
   "cell_type": "markdown",
   "id": "74633a70",
   "metadata": {},
   "source": [
    "1. Trying to add incompatible variables, as in adding 6 + ‘a\n",
    "\n",
    "Answer - 'Syntax Error'"
   ]
  },
  {
   "cell_type": "code",
   "execution_count": 112,
   "id": "35f9c48d",
   "metadata": {},
   "outputs": [
    {
     "ename": "SyntaxError",
     "evalue": "cannot assign to literal here. Maybe you meant '==' instead of '='? (2541270947.py, line 1)",
     "output_type": "error",
     "traceback": [
      "\u001b[1;36m  Cell \u001b[1;32mIn[112], line 1\u001b[1;36m\u001b[0m\n\u001b[1;33m    6 = 'a'\u001b[0m\n\u001b[1;37m    ^\u001b[0m\n\u001b[1;31mSyntaxError\u001b[0m\u001b[1;31m:\u001b[0m cannot assign to literal here. Maybe you meant '==' instead of '='?\n"
     ]
    }
   ],
   "source": [
    "6 = 'a'"
   ]
  },
  {
   "cell_type": "markdown",
   "id": "718ad13a",
   "metadata": {},
   "source": [
    "2. Referring to the 12th item of a list that has only 10 items\n",
    "\n",
    "Answer: IndexError - List index out of range"
   ]
  },
  {
   "cell_type": "code",
   "execution_count": 117,
   "id": "957508eb",
   "metadata": {},
   "outputs": [
    {
     "name": "stdout",
     "output_type": "stream",
     "text": [
      "89\n"
     ]
    },
    {
     "ename": "IndexError",
     "evalue": "list index out of range",
     "output_type": "error",
     "traceback": [
      "\u001b[1;31m---------------------------------------------------------------------------\u001b[0m",
      "\u001b[1;31mIndexError\u001b[0m                                Traceback (most recent call last)",
      "Cell \u001b[1;32mIn[117], line 3\u001b[0m\n\u001b[0;32m      1\u001b[0m lst \u001b[38;5;241m=\u001b[39m [\u001b[38;5;241m19\u001b[39m,\u001b[38;5;241m66\u001b[39m,\u001b[38;5;241m75\u001b[39m,\u001b[38;5;241m32\u001b[39m,\u001b[38;5;241m56\u001b[39m,\u001b[38;5;241m46\u001b[39m,\u001b[38;5;241m43\u001b[39m,\u001b[38;5;241m3\u001b[39m,\u001b[38;5;241m332\u001b[39m,\u001b[38;5;241m89\u001b[39m]\n\u001b[0;32m      2\u001b[0m \u001b[38;5;28mprint\u001b[39m(lst[\u001b[38;5;241m9\u001b[39m])\n\u001b[1;32m----> 3\u001b[0m \u001b[38;5;28mprint\u001b[39m(\u001b[43mlst\u001b[49m\u001b[43m[\u001b[49m\u001b[38;5;241;43m11\u001b[39;49m\u001b[43m]\u001b[49m)\n",
      "\u001b[1;31mIndexError\u001b[0m: list index out of range"
     ]
    }
   ],
   "source": [
    "lst = [19,66,75,32,56,46,43,3,332,89]\n",
    "print(lst[9])\n",
    "print(lst[11])"
   ]
  },
  {
   "cell_type": "markdown",
   "id": "c7b48a62",
   "metadata": {},
   "source": [
    "3. Using a value that is out of range for a function’s input, such as calling math.sqrt(-1.0)\n",
    "\n",
    "Answer: TypeError - math.sqrt() takes exactly one argument (2 given)"
   ]
  },
  {
   "cell_type": "code",
   "execution_count": 118,
   "id": "672f08fc",
   "metadata": {},
   "outputs": [
    {
     "ename": "TypeError",
     "evalue": "math.sqrt() takes exactly one argument (2 given)",
     "output_type": "error",
     "traceback": [
      "\u001b[1;31m---------------------------------------------------------------------------\u001b[0m",
      "\u001b[1;31mTypeError\u001b[0m                                 Traceback (most recent call last)",
      "Cell \u001b[1;32mIn[118], line 3\u001b[0m\n\u001b[0;32m      1\u001b[0m \u001b[38;5;28;01mfrom\u001b[39;00m \u001b[38;5;21;01mmath\u001b[39;00m \u001b[38;5;28;01mimport\u001b[39;00m \u001b[38;5;241m*\u001b[39m\n\u001b[1;32m----> 3\u001b[0m \u001b[38;5;28mprint\u001b[39m(\u001b[43msqrt\u001b[49m\u001b[43m(\u001b[49m\u001b[38;5;241;43m-\u001b[39;49m\u001b[38;5;241;43m1\u001b[39;49m\u001b[43m,\u001b[49m\u001b[38;5;241;43m0\u001b[39;49m\u001b[43m)\u001b[49m)\n",
      "\u001b[1;31mTypeError\u001b[0m: math.sqrt() takes exactly one argument (2 given)"
     ]
    }
   ],
   "source": [
    "from math import *\n",
    "\n",
    "print(sqrt(-1,0))"
   ]
  },
  {
   "cell_type": "markdown",
   "id": "51565578",
   "metadata": {},
   "source": [
    "4. Using an undeclared variable, such as print(x)when x has not been defined \n",
    "answer: NameError"
   ]
  },
  {
   "cell_type": "code",
   "execution_count": 119,
   "id": "19773caa",
   "metadata": {},
   "outputs": [
    {
     "ename": "NameError",
     "evalue": "name 'x' is not defined",
     "output_type": "error",
     "traceback": [
      "\u001b[1;31m---------------------------------------------------------------------------\u001b[0m",
      "\u001b[1;31mNameError\u001b[0m                                 Traceback (most recent call last)",
      "Cell \u001b[1;32mIn[119], line 2\u001b[0m\n\u001b[0;32m      1\u001b[0m y \u001b[38;5;241m=\u001b[39m \u001b[38;5;241m10\u001b[39m\n\u001b[1;32m----> 2\u001b[0m \u001b[38;5;28mprint\u001b[39m(\u001b[43mx\u001b[49m)\n",
      "\u001b[1;31mNameError\u001b[0m: name 'x' is not defined"
     ]
    }
   ],
   "source": [
    "y = 10\n",
    "print(x)"
   ]
  },
  {
   "cell_type": "markdown",
   "id": "3bc284a6",
   "metadata": {},
   "source": [
    "5. Trying to open a file that does not exist, such as mistyping the file name or looking in the wrong directory. \n",
    "\n",
    "Answer: 'NAmeError' "
   ]
  },
  {
   "cell_type": "code",
   "execution_count": 120,
   "id": "4b196f2d",
   "metadata": {},
   "outputs": [
    {
     "ename": "NameError",
     "evalue": "name 'text' is not defined",
     "output_type": "error",
     "traceback": [
      "\u001b[1;31m---------------------------------------------------------------------------\u001b[0m",
      "\u001b[1;31mNameError\u001b[0m                                 Traceback (most recent call last)",
      "Cell \u001b[1;32mIn[120], line 1\u001b[0m\n\u001b[1;32m----> 1\u001b[0m infile \u001b[38;5;241m=\u001b[39m \u001b[38;5;28mopen\u001b[39m(\u001b[43mtext\u001b[49m\u001b[38;5;241m.\u001b[39mtxt)\n\u001b[0;32m      2\u001b[0m \u001b[38;5;28mprint\u001b[39m(infile)\n",
      "\u001b[1;31mNameError\u001b[0m: name 'text' is not defined"
     ]
    }
   ],
   "source": [
    "infile = open(text.txt)\n",
    "print(infile)"
   ]
  },
  {
   "cell_type": "markdown",
   "id": "a384972f",
   "metadata": {},
   "source": [
    "# Question 10"
   ]
  },
  {
   "cell_type": "markdown",
   "id": "26052bcd",
   "metadata": {},
   "source": [
    "Encryption"
   ]
  },
  {
   "cell_type": "code",
   "execution_count": 127,
   "id": "7ce02968",
   "metadata": {},
   "outputs": [
    {
     "name": "stdout",
     "output_type": "stream",
     "text": [
      "[1, 1, 1, 3, 5, 1, 1, 2, 1, 0, 1, 0, 1, 2, 4, 0, 1, 2, 0, 3, 1, 0, 1, 1, 0, 0]\n",
      "[1, 0, 0, 0, 1, 0, 0, 0, 0, 0, 0, 1, 0, 0, 0, 2, 0, 0, 0, 0, 0, 0, 0, 0, 0, 0]\n"
     ]
    }
   ],
   "source": [
    "def frequencies(text):                     # defining a function to count the occurence of alphabets in the string\n",
    "    letters = 'abcdefghijklmnopqrstuvwxyz'\n",
    "    counts = [0] * 26                      # initialize a list of zeros to store the counts for all alphabets \n",
    "\n",
    "    for char in text:\n",
    "        char = char.lower()                # convert character to lowercase as the frequency func is only in lower cases\n",
    "        \n",
    "        if char in letters:\n",
    "            index = letters.index(char)   # getting the index of the character in the string\n",
    "            counts[index] += 1            # increment the count for that character\n",
    "\n",
    "    return counts\n",
    "\n",
    "result1 = frequencies('The quick red fox got bored and went home')  # storing the function into result1\n",
    "print(result1)\n",
    "\n",
    "result2 = frequencies('apple')\n",
    "print(result2)"
   ]
  }
 ],
 "metadata": {
  "kernelspec": {
   "display_name": "Python 3 (ipykernel)",
   "language": "python",
   "name": "python3"
  },
  "language_info": {
   "codemirror_mode": {
    "name": "ipython",
    "version": 3
   },
   "file_extension": ".py",
   "mimetype": "text/x-python",
   "name": "python",
   "nbconvert_exporter": "python",
   "pygments_lexer": "ipython3",
   "version": "3.10.9"
  }
 },
 "nbformat": 4,
 "nbformat_minor": 5
}
